{
 "cells": [
  {
   "cell_type": "markdown",
   "metadata": {},
   "source": [
    "#### Author: Samia Zaman\n",
    "#### Date: 25 Feb, 2021\n",
    "### CS 334 Project 1: Building an interpreter for CATANDMOUSE programming language- Part 1"
   ]
  },
  {
   "cell_type": "code",
   "execution_count": 1,
   "metadata": {},
   "outputs": [],
   "source": [
    "'''Return a boolean indicating whether given word was a valid token or not\n",
    "    Arguments: \n",
    "    word - a string that is only a valid variable if it is comprised of numbers and digits\n",
    "    digits - a list of strings in: 123456789\n",
    "    letters - a list of strings in: abcdefg....xyz'''\n",
    "\n",
    "def valid_variable(word, digits, letters):\n",
    "    word = list(word)\n",
    "    digits_in_word = set(word).intersection(set(digits))\n",
    "    letters_in_word = set(word).intersection(set(letters))\n",
    "    if (digits_in_word.union(letters_in_word) != set(word)):\n",
    "        return False                  # foreign symbol outside letters and digits\n",
    "    if (digits_in_word == set(word)):\n",
    "        if len(word)<4:        # all digits but length less than 4\n",
    "            return False\n",
    "    return True               # otherwise, valid - mix of letters and digits"
   ]
  },
  {
   "cell_type": "code",
   "execution_count": 2,
   "metadata": {},
   "outputs": [],
   "source": [
    "'''Return a boolean indicating whether given word was a valid token or not\n",
    "    Arguments: \n",
    "    word - a string that is only a valid variable if it is comprised of numbers and digits\n",
    "    digits - a list of strings in: 123456789'''\n",
    "\n",
    "def valid_int(word, digits):\n",
    "    try:\n",
    "        int(word)\n",
    "    except ValueError:\n",
    "        return False\n",
    "    else:\n",
    "        if word.startswith(\"0\"):\n",
    "            if len(word) >1:\n",
    "                return False\n",
    "        if len(word)>3:\n",
    "            return False\n",
    "        return True"
   ]
  },
  {
   "cell_type": "code",
   "execution_count": 3,
   "metadata": {},
   "outputs": [],
   "source": [
    "'''Return an integer index where '//' starts - indicating the start of a comment\n",
    "Arguments:\n",
    "    wordsList - a list of words (strings)'''\n",
    "def comment_starts(wordsList):\n",
    "    return wordsList.index('//')"
   ]
  },
  {
   "cell_type": "code",
   "execution_count": 4,
   "metadata": {},
   "outputs": [],
   "source": [
    "'''Return a boolean indicating whether '//' present in line or not\n",
    "Arguments: \n",
    "    wordsList - a list of words (strings)'''\n",
    "def has_comment(wordsList):\n",
    "    if '//' in wordsList:\n",
    "        return True\n",
    "    return False"
   ]
  },
  {
   "cell_type": "code",
   "execution_count": 5,
   "metadata": {},
   "outputs": [],
   "source": [
    "'''Return a tuple of strings indicating the token type and the value of the word\n",
    "Arguments: \n",
    "    word - a string which has a particular \"token_type\" \n",
    "    digits - a list of strings in: 123456789\n",
    "    letters - a list of strings in: abcdefg....xyz\n",
    "    keywords - a list of key words\n",
    "    punctuations - just [;], for now '''\n",
    "\n",
    "def get_token_type(word, digits, letters, keywords, \n",
    "              punctuations):\n",
    "    if ((word in keywords) or (word in punctuations)):\n",
    "        return (word, \"NULL\")\n",
    "    if valid_int(word, digits):\n",
    "        return (\"integer\", word)\n",
    "    if valid_variable(word, digits, letters):\n",
    "        return (\"variable\", '0')\n",
    "    else:\n",
    "        return (\"error\", '0')\n",
    "    "
   ]
  },
  {
   "cell_type": "code",
   "execution_count": 6,
   "metadata": {},
   "outputs": [],
   "source": [
    "'''Search for variable or integer already in table - otherwise insert integer/variable not seen before\n",
    "Arguments: \n",
    "    word - a string with token_type = variable or integer\n",
    "    value - a string with value = 0 if variable, and value of int if integer\n",
    "    symTable - add to it 3-element lists of the form: [integer/variable, char value, int value]  '''\n",
    "\n",
    "def search_and_insert(word, token_type, value, symTable):\n",
    "    if (value == \"NULL\"):\n",
    "        return []\n",
    "    integers_found = [symTable[k][1] for k in range(len(symTable)) if symTable[k][0] == \"integer\"]  # value is in position 2\n",
    "    variables_found = [symTable[k][1] for k in range(len(symTable)) if symTable[k][0] == \"variable\"] \n",
    "\n",
    "    if token_type == \"integer\":\n",
    "        if (int(value) in integers_found):\n",
    "            index = integers_found.index(int(value))\n",
    "            return [index, 0]\n",
    "        else:\n",
    "            symTable.append([\"integer\", int(value), int(value)])\n",
    "            return[len(symTable), 0]\n",
    "        \n",
    "    elif (token_type == \"variable\"):\n",
    "        if (word in variables_found):\n",
    "            index = variables_found.index(word)\n",
    "            return [index, 0]\n",
    "        else:\n",
    "            symTable.append([\"variable\", word, int(value)])\n",
    "            return[len(symTable), 0]\n",
    "    \n",
    "                "
   ]
  },
  {
   "cell_type": "code",
   "execution_count": 13,
   "metadata": {},
   "outputs": [],
   "source": [
    "'''Main function for reading in the file specified, and printing whether each word in file is one of:\n",
    "    1. A valid token - if so, print the token type and the value associated\n",
    "    2. Invalid token - then print an error message specifying the line where the invalid token is\n",
    "Additionally, \n",
    "    3. It stores valid, unique tokens into a data structure called symTable = 'symbol table'\n",
    "    4. Returns the location ([row, column]) of the valid token in symbol table\n",
    "Arguments:\n",
    "    filename - file to be read\n",
    "    symTable - initially an empty list;\n",
    "    to be filled with (1x3) arrays of unique token_type followed by their int and char values'''\n",
    "\n",
    "def scanner(filename, symTable):\n",
    "    file = open(filename, \"r\")\n",
    "    line_index = 0\n",
    "    for line in file:\n",
    "        words_in_line = line.strip().split(\" \")\n",
    "        if (words_in_line[0] == ''):\n",
    "            continue\n",
    "        if has_comment(words_in_line):\n",
    "            comment_index = comment_starts(words_in_line)\n",
    "            words_in_line = words_in_line[0:comment_index]\n",
    "        line_index +=1\n",
    "        print(words_in_line)\n",
    "        for word in words_in_line:\n",
    "            word = word.lower()\n",
    "            (token_type, value) = get_token_type(word, digits, letters, keywords, punctuations)\n",
    "            if token_type == \"error\":\n",
    "                print(\"Error at line: \" + str(line_index) + \" on invalid token: '\" + word +\"'\\n\")\n",
    "                pass\n",
    "            else:\n",
    "                print(\"Token is: \" + word + \", with token type: \" + token_type  + \", and value: \" + value + \"\\n\")\n",
    "            #location = search_and_insert(word, token_type, value, symTable) # Throw this information away for now\n",
    "            #print(\"Location for this token in symbol table is [row, column]: \", location, \"\\n\") \n",
    "            \n",
    "    return symTable \n",
    "            "
   ]
  },
  {
   "cell_type": "code",
   "execution_count": 14,
   "metadata": {},
   "outputs": [],
   "source": [
    "# Set up the default inputs to driver function\n",
    "# Defaults are specific to those specified in CATANDMOUSE programming language\n",
    "\n",
    "filepath = \"\"\n",
    "file_extension = \".txt\"              # my windows computer only downloads .mc files as .mc.txt- e.g. p2e.mc.txt\n",
    "symTable = []\n",
    "keywords = [\"begin\", \"halt\",\"cat\", \"mouse\", \"clockwise\", \"move\", \"north\", \"south\", \"east\", \"west\", \"hole\", \n",
    "          \"repeat\", \"size\", \"end\"]\n",
    "punctuations = [\";\"]               # only ; for now\n",
    "letters = list(\"abcdefghijklmnopqrstuvwxyz\")\n",
    "digits = list(\"0123456789\")"
   ]
  },
  {
   "cell_type": "markdown",
   "metadata": {},
   "source": [
    "### Run the driver function, 'scanner'"
   ]
  },
  {
   "cell_type": "code",
   "execution_count": 15,
   "metadata": {},
   "outputs": [
    {
     "name": "stdout",
     "output_type": "stream",
     "text": [
      "Please enter a filename, (e.g. p1.mc/ p2e.mc): p2e.mc\n",
      "['cat', 'charlotte', '20', '21', 'east', ';']\n",
      "Token is: cat, with token type: cat, and value: NULL\n",
      "\n",
      "Token is: charlotte, with token type: variable, and value: 0\n",
      "\n",
      "Token is: 20, with token type: integer, and value: 20\n",
      "\n",
      "Token is: 21, with token type: integer, and value: 21\n",
      "\n",
      "Token is: east, with token type: east, and value: NULL\n",
      "\n",
      "Token is: ;, with token type: ;, and value: NULL\n",
      "\n",
      "['mouse', '98', '5', '6', 'north', ';']\n",
      "Token is: mouse, with token type: mouse, and value: NULL\n",
      "\n",
      "Token is: 98, with token type: integer, and value: 98\n",
      "\n",
      "Token is: 5, with token type: integer, and value: 5\n",
      "\n",
      "Token is: 6, with token type: integer, and value: 6\n",
      "\n",
      "Token is: north, with token type: north, and value: NULL\n",
      "\n",
      "Token is: ;, with token type: ;, and value: NULL\n",
      "\n",
      "['hole', '5874', '8;', '', '', '', '', '', '', '', '']\n",
      "Token is: hole, with token type: hole, and value: NULL\n",
      "\n",
      "Token is: 5874, with token type: variable, and value: 0\n",
      "\n",
      "Error at line: 3 on invalid token: '8;'\n",
      "\n",
      "Error at line: 3 on invalid token: ''\n",
      "\n",
      "Error at line: 3 on invalid token: ''\n",
      "\n",
      "Error at line: 3 on invalid token: ''\n",
      "\n",
      "Error at line: 3 on invalid token: ''\n",
      "\n",
      "Error at line: 3 on invalid token: ''\n",
      "\n",
      "Error at line: 3 on invalid token: ''\n",
      "\n",
      "Error at line: 3 on invalid token: ''\n",
      "\n",
      "Error at line: 3 on invalid token: ''\n",
      "\n",
      "['move', 'charlotte', 'east', '-', '3', ';', '', '', '', '', '', '', '']\n",
      "Token is: move, with token type: move, and value: NULL\n",
      "\n",
      "Token is: charlotte, with token type: variable, and value: 0\n",
      "\n",
      "Token is: east, with token type: east, and value: NULL\n",
      "\n",
      "Error at line: 4 on invalid token: '-'\n",
      "\n",
      "Token is: 3, with token type: integer, and value: 3\n",
      "\n",
      "Token is: ;, with token type: ;, and value: NULL\n",
      "\n",
      "Error at line: 4 on invalid token: ''\n",
      "\n",
      "Error at line: 4 on invalid token: ''\n",
      "\n",
      "Error at line: 4 on invalid token: ''\n",
      "\n",
      "Error at line: 4 on invalid token: ''\n",
      "\n",
      "Error at line: 4 on invalid token: ''\n",
      "\n",
      "Error at line: 4 on invalid token: ''\n",
      "\n",
      "Error at line: 4 on invalid token: ''\n",
      "\n",
      "['move', 'move', 'move', '8*9go', ';', '', '', '', '', '', '', '', '', '', '']\n",
      "Token is: move, with token type: move, and value: NULL\n",
      "\n",
      "Token is: move, with token type: move, and value: NULL\n",
      "\n",
      "Token is: move, with token type: move, and value: NULL\n",
      "\n",
      "Error at line: 5 on invalid token: '8*9go'\n",
      "\n",
      "Token is: ;, with token type: ;, and value: NULL\n",
      "\n",
      "Error at line: 5 on invalid token: ''\n",
      "\n",
      "Error at line: 5 on invalid token: ''\n",
      "\n",
      "Error at line: 5 on invalid token: ''\n",
      "\n",
      "Error at line: 5 on invalid token: ''\n",
      "\n",
      "Error at line: 5 on invalid token: ''\n",
      "\n",
      "Error at line: 5 on invalid token: ''\n",
      "\n",
      "Error at line: 5 on invalid token: ''\n",
      "\n",
      "Error at line: 5 on invalid token: ''\n",
      "\n",
      "Error at line: 5 on invalid token: ''\n",
      "\n",
      "Error at line: 5 on invalid token: ''\n",
      "\n"
     ]
    },
    {
     "data": {
      "text/plain": [
       "[]"
      ]
     },
     "execution_count": 15,
     "metadata": {},
     "output_type": "execute_result"
    }
   ],
   "source": [
    "## call scanner to start processing the file\n",
    "filename = input(\"Please enter a filename, (e.g. p1.mc/ p2e.mc): \")\n",
    "filename = filename + file_extension\n",
    "scanner(filename, symTable)"
   ]
  },
  {
   "cell_type": "code",
   "execution_count": 19,
   "metadata": {
    "scrolled": true
   },
   "outputs": [
    {
     "name": "stdout",
     "output_type": "stream",
     "text": [
      "TYPE      CH VALUE                                            INT VALUE\n",
      "--------  ------------------------------------------------  -----------\n",
      "integer   1                                                           1\n",
      "integer   2                                                           2\n",
      "integer   3                                                           3\n",
      "integer   12                                                         12\n",
      "integer   23                                                         23\n",
      "integer   123                                                       123\n",
      "variable  1234                                                        0\n",
      "variable  12345                                                       0\n",
      "variable  1234878798127982739182791239128739                          0\n",
      "variable  ajasjssjsdfsfkj35jk5k5jk5k5kj5lk2k234lj234k342lj            0\n",
      "variable  58u                                                         0\n",
      "variable  a4                                                          0\n",
      "variable  ok                                                          0\n",
      "variable  that                                                        0\n",
      "variable  is                                                          0\n",
      "variable  all                                                         0\n"
     ]
    }
   ],
   "source": [
    "from tabulate import tabulate\n",
    "print(tabulate(symTable, headers=[\"TYPE\",\"CH VALUE\", \"INT VALUE\"]))"
   ]
  },
  {
   "cell_type": "markdown",
   "metadata": {},
   "source": [
    "#### THANK YOU !"
   ]
  }
 ],
 "metadata": {
  "kernelspec": {
   "display_name": "Python 3",
   "language": "python",
   "name": "python3"
  },
  "language_info": {
   "codemirror_mode": {
    "name": "ipython",
    "version": 3
   },
   "file_extension": ".py",
   "mimetype": "text/x-python",
   "name": "python",
   "nbconvert_exporter": "python",
   "pygments_lexer": "ipython3",
   "version": "3.7.6"
  }
 },
 "nbformat": 4,
 "nbformat_minor": 4
}
